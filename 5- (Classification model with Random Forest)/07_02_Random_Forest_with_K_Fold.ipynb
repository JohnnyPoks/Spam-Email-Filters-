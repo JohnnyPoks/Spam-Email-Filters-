{
 "cells": [
  {
   "cell_type": "code",
   "execution_count": 2,
   "metadata": {},
   "outputs": [],
   "source": [
    "import nltk\n",
    "import pandas as pd\n",
    "import re\n",
    " \n",
    "from sklearn.feature_extraction.text import TfidfVectorizer\n",
    "import string\n",
    " \n",
    "\n",
    "data = pd.read_csv(\"../Data/SMSSpamCollection.txt\", sep='\\t', header=None)\n",
    "data.columns = ['label', 'Content']\n",
    "\n",
    "en_stopwords = nltk.corpus.stopwords.words('english')\n",
    "ps = nltk.PorterStemmer()\n",
    "\n",
    "data['Content_len'] = data['Content'].apply(lambda x: len(x) - x.count(\" \"))\n",
    "\n",
    "def count_punctuation(text):\n",
    "    binary_array = [1 for ch in text if ch in string.punctuation] \n",
    "    nb_ponctuation = sum(binary_array)\n",
    "    total = len(text) - text.count(\" \")\n",
    "    return round(nb_ponctuation/(total), 4)*100\n",
    "\n",
    "data['punctuation_rate'] = data['Content'].apply(lambda x: count_punctuation(x))\n",
    "\n",
    "\n",
    "def clean_email(email):\n",
    "    result = \"\".join([word for word in email if word not in string.punctuation])\n",
    "    tokens = re.split(r'\\W+', result)\n",
    "    text = [ps.stem(word) for word in tokens if word not in en_stopwords]\n",
    "    return text\n",
    "\n",
    " \n",
    "\n",
    "vectorisation_full = TfidfVectorizer(analyzer=clean_email)\n",
    "vect_final = vectorisation_full.fit_transform(data['Content'])\n",
    "\n",
    "\n",
    "all_data = pd.concat([pd.DataFrame(vect_final.toarray()), data['Content_len'], data['punctuation_rate']], axis=1)"
   ]
  },
  {
   "cell_type": "code",
   "execution_count": 6,
   "metadata": {},
   "outputs": [],
   "source": [
    "from sklearn.model_selection import KFold, cross_val_score\n",
    "\n",
    "all_data.columns = all_data.columns.astype(str)"
   ]
  },
  {
   "cell_type": "code",
   "execution_count": 7,
   "metadata": {},
   "outputs": [
    {
     "data": {
      "text/plain": [
       "array([0.94113424, 0.94687724, 0.94544149, 0.94472362])"
      ]
     },
     "execution_count": 7,
     "metadata": {},
     "output_type": "execute_result"
    }
   ],
   "source": [
    "from sklearn.ensemble import RandomForestClassifier\n",
    "\n",
    "alg_RandomForest = RandomForestClassifier(n_estimators=50, max_depth=20, n_jobs=-1)\n",
    "\n",
    "K_fold = KFold(n_splits=4)\n",
    "cross_val_score(alg_RandomForest, all_data, data['label'], cv=K_fold, scoring='accuracy', n_jobs=-1)"
   ]
  },
  {
   "cell_type": "code",
   "execution_count": null,
   "metadata": {},
   "outputs": [],
   "source": []
  }
 ],
 "metadata": {
  "kernelspec": {
   "display_name": "Python 3",
   "language": "python",
   "name": "python3"
  },
  "language_info": {
   "codemirror_mode": {
    "name": "ipython",
    "version": 3
   },
   "file_extension": ".py",
   "mimetype": "text/x-python",
   "name": "python",
   "nbconvert_exporter": "python",
   "pygments_lexer": "ipython3",
   "version": "3.12.2"
  }
 },
 "nbformat": 4,
 "nbformat_minor": 2
}
